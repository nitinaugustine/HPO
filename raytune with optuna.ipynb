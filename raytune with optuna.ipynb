{
 "cells": [
  {
   "cell_type": "code",
   "execution_count": 1,
   "id": "a20514c7",
   "metadata": {},
   "outputs": [],
   "source": [
    "import pandas as pd\n",
    "import numpy as np\n",
    "from matplotlib import pyplot\n",
    "import keras\n",
    "import tensorflow as tf\n",
    "from keras.datasets import fashion_mnist\n",
    "from tensorflow.keras.utils import to_categorical\n",
    "from sklearn.model_selection import train_test_split\n",
    "from sklearn.model_selection import KFold\n",
    "from tensorflow.keras.models import Sequential \n",
    "from keras.layers import Conv2D\n",
    "from keras.layers import MaxPooling2D\n",
    "from keras.layers import Dense\n",
    "from keras.layers import Flatten\n",
    "from tensorflow.keras.optimizers import SGD\n",
    "from tensorflow.keras.optimizers import Adam\n",
    "from sklearn.model_selection import GridSearchCV\n",
    "import sklearn\n",
    "from sklearn.model_selection import RandomizedSearchCV\n",
    "\n",
    "from keras.wrappers.scikit_learn import KerasClassifier\n",
    "\n",
    "from skopt import dummy_minimize\n",
    "\n",
    "\n",
    "from keras.callbacks import ReduceLROnPlateau\n",
    "\n",
    "from skopt import gp_minimize\n",
    "from skopt.utils import use_named_args"
   ]
  },
  {
   "cell_type": "code",
   "execution_count": 2,
   "id": "b871a4b4",
   "metadata": {},
   "outputs": [
    {
     "name": "stdout",
     "output_type": "stream",
     "text": [
      "Train: X=(60000, 28, 28), y=(60000,)\n",
      "Test: X=(10000, 28, 28), y=(10000,)\n"
     ]
    }
   ],
   "source": [
    "(trainX, trainy), (testX, testy) = fashion_mnist.load_data()\n",
    "\n",
    "print('Train: X=%s, y=%s' % (trainX.shape, trainy.shape))\n",
    "print('Test: X=%s, y=%s' % (testX.shape, testy.shape))\n",
    "\n",
    "def load_dataset():\n",
    "    (trainX, trainY), (testX, testY) = fashion_mnist.load_data()\n",
    "    trainX = trainX.reshape((trainX.shape[0], 28, 28, 1))\n",
    "    testX = testX.reshape((testX.shape[0], 28, 28, 1))\n",
    "    trainY = to_categorical(trainY)\n",
    "    testY = to_categorical(testY)\n",
    "    return trainX, trainY, testX, testY\n",
    "\n",
    "def prep_pixels(train, test):\n",
    "    # convert from integers to floats\n",
    "    train_norm = train.astype('float32')\n",
    "    test_norm = test.astype('float32')\n",
    "    # normalize to range 0-1\n",
    "    train_norm = train_norm / 255.0\n",
    "    test_norm = test_norm / 255.0\n",
    "    # return normalized images\n",
    "    return train_norm, test_norm   "
   ]
  },
  {
   "cell_type": "code",
   "execution_count": 3,
   "id": "b238cb7a",
   "metadata": {},
   "outputs": [],
   "source": [
    "#TEST RUN\n",
    "\n",
    "trainX, trainY, testX, testY = load_dataset()\n",
    "trainX, testX = prep_pixels(trainX, testX)\n",
    "\n"
   ]
  },
  {
   "cell_type": "code",
   "execution_count": 4,
   "id": "a9bb2959",
   "metadata": {},
   "outputs": [
    {
     "name": "stdout",
     "output_type": "stream",
     "text": [
      "Requirement already satisfied: optuna in e:\\archives\\anaconda\\lib\\site-packages (2.10.0)\n",
      "Requirement already satisfied: cliff in e:\\archives\\anaconda\\lib\\site-packages (from optuna) (3.10.1)\n",
      "Requirement already satisfied: cmaes>=0.8.2 in e:\\archives\\anaconda\\lib\\site-packages (from optuna) (0.8.2)\n",
      "Requirement already satisfied: colorlog in e:\\archives\\anaconda\\lib\\site-packages (from optuna) (6.6.0)\n",
      "Requirement already satisfied: PyYAML in e:\\archives\\anaconda\\lib\\site-packages (from optuna) (5.4.1)\n",
      "Requirement already satisfied: sqlalchemy>=1.1.0 in e:\\archives\\anaconda\\lib\\site-packages (from optuna) (1.4.7)\n",
      "Requirement already satisfied: alembic in e:\\archives\\anaconda\\lib\\site-packages (from optuna) (1.7.6)\n",
      "Requirement already satisfied: tqdm in e:\\archives\\anaconda\\lib\\site-packages (from optuna) (4.59.0)\n",
      "Requirement already satisfied: packaging>=20.0 in e:\\archives\\anaconda\\lib\\site-packages (from optuna) (20.9)\n",
      "Requirement already satisfied: numpy in e:\\archives\\anaconda\\lib\\site-packages (from optuna) (1.20.1)\n",
      "Requirement already satisfied: scipy!=1.4.0 in e:\\archives\\anaconda\\lib\\site-packages (from optuna) (1.6.2)\n",
      "Requirement already satisfied: pyparsing>=2.0.2 in e:\\archives\\anaconda\\lib\\site-packages (from packaging>=20.0->optuna) (2.4.7)\n",
      "Requirement already satisfied: greenlet!=0.4.17 in e:\\archives\\anaconda\\lib\\site-packages (from sqlalchemy>=1.1.0->optuna) (1.0.0)\n",
      "Requirement already satisfied: importlib-metadata in e:\\archives\\anaconda\\lib\\site-packages (from alembic->optuna) (4.10.1)\n",
      "Requirement already satisfied: Mako in e:\\archives\\anaconda\\lib\\site-packages (from alembic->optuna) (1.1.6)\n",
      "Requirement already satisfied: importlib-resources in e:\\archives\\anaconda\\lib\\site-packages (from alembic->optuna) (5.4.0)\n",
      "Requirement already satisfied: cmd2>=1.0.0 in e:\\archives\\anaconda\\lib\\site-packages (from cliff->optuna) (2.4.0)\n",
      "Requirement already satisfied: PrettyTable>=0.7.2 in e:\\archives\\anaconda\\lib\\site-packages (from cliff->optuna) (2.4.0)\n",
      "Requirement already satisfied: stevedore>=2.0.1 in e:\\archives\\anaconda\\lib\\site-packages (from cliff->optuna) (3.5.0)\n",
      "Requirement already satisfied: autopage>=0.4.0 in e:\\archives\\anaconda\\lib\\site-packages (from cliff->optuna) (0.5.0)\n",
      "Requirement already satisfied: pbr!=2.1.0,>=2.0.0 in e:\\archives\\anaconda\\lib\\site-packages (from cliff->optuna) (5.8.1)\n",
      "Requirement already satisfied: attrs>=16.3.0 in e:\\archives\\anaconda\\lib\\site-packages (from cmd2>=1.0.0->cliff->optuna) (20.3.0)\n",
      "Requirement already satisfied: wcwidth>=0.1.7 in e:\\archives\\anaconda\\lib\\site-packages (from cmd2>=1.0.0->cliff->optuna) (0.2.5)\n",
      "Requirement already satisfied: pyperclip>=1.6 in e:\\archives\\anaconda\\lib\\site-packages (from cmd2>=1.0.0->cliff->optuna) (1.8.2)\n",
      "Requirement already satisfied: pyreadline3 in e:\\archives\\anaconda\\lib\\site-packages (from cmd2>=1.0.0->cliff->optuna) (3.4.1)\n",
      "Requirement already satisfied: colorama in e:\\archives\\anaconda\\lib\\site-packages (from colorlog->optuna) (0.4.4)\n",
      "Requirement already satisfied: zipp>=0.5 in e:\\archives\\anaconda\\lib\\site-packages (from importlib-metadata->alembic->optuna) (3.4.1)\n",
      "Requirement already satisfied: MarkupSafe>=0.9.2 in e:\\archives\\anaconda\\lib\\site-packages (from Mako->alembic->optuna) (1.1.1)\n",
      "Note: you may need to restart the kernel to use updated packages.\n"
     ]
    }
   ],
   "source": [
    "pip install optuna"
   ]
  },
  {
   "cell_type": "code",
   "execution_count": 5,
   "id": "bafd1c59",
   "metadata": {},
   "outputs": [
    {
     "name": "stdout",
     "output_type": "stream",
     "text": [
      "Collecting mlflow\n",
      "  Downloading mlflow-1.24.0-py3-none-any.whl (16.5 MB)\n",
      "Requirement already satisfied: click>=7.0 in e:\\archives\\anaconda\\lib\\site-packages (from mlflow) (7.1.2)\n",
      "Requirement already satisfied: pytz in e:\\archives\\anaconda\\lib\\site-packages (from mlflow) (2021.1)\n",
      "Collecting databricks-cli>=0.8.7\n",
      "  Downloading databricks-cli-0.16.4.tar.gz (58 kB)\n",
      "Requirement already satisfied: entrypoints in e:\\archives\\anaconda\\lib\\site-packages (from mlflow) (0.3)\n",
      "Collecting sqlparse>=0.3.1\n",
      "  Downloading sqlparse-0.4.2-py3-none-any.whl (42 kB)\n",
      "Requirement already satisfied: alembic in e:\\archives\\anaconda\\lib\\site-packages (from mlflow) (1.7.6)\n",
      "Collecting gitpython>=2.1.0\n",
      "Note: you may need to restart the kernel to use updated packages.\n",
      "  Downloading GitPython-3.1.27-py3-none-any.whl (181 kB)\n",
      "Requirement already satisfied: cloudpickle in e:\\archives\\anaconda\\lib\\site-packages (from mlflow) (1.6.0)\n",
      "Requirement already satisfied: pyyaml>=5.1 in e:\\archives\\anaconda\\lib\\site-packages (from mlflow) (5.4.1)\n",
      "Requirement already satisfied: protobuf>=3.7.0 in e:\\archives\\anaconda\\lib\\site-packages (from mlflow) (3.19.4)\n",
      "Requirement already satisfied: requests>=2.17.3 in e:\\archives\\anaconda\\lib\\site-packages (from mlflow) (2.25.1)\n",
      "Requirement already satisfied: scipy in e:\\archives\\anaconda\\lib\\site-packages (from mlflow) (1.6.2)\n",
      "Collecting waitress\n",
      "  Downloading waitress-2.1.1-py3-none-any.whl (57 kB)\n",
      "Requirement already satisfied: sqlalchemy in e:\\archives\\anaconda\\lib\\site-packages (from mlflow) (1.4.7)\n",
      "Requirement already satisfied: pandas in e:\\archives\\anaconda\\lib\\site-packages (from mlflow) (1.2.4)\n",
      "Requirement already satisfied: importlib-metadata!=4.7.0,>=3.7.0 in e:\\archives\\anaconda\\lib\\site-packages (from mlflow) (4.10.1)\n",
      "Requirement already satisfied: packaging in e:\\archives\\anaconda\\lib\\site-packages (from mlflow) (20.9)\n",
      "Collecting docker>=4.0.0\n",
      "  Downloading docker-5.0.3-py2.py3-none-any.whl (146 kB)\n",
      "Collecting prometheus-flask-exporter\n",
      "  Downloading prometheus_flask_exporter-0.19.0-py3-none-any.whl (18 kB)\n",
      "Requirement already satisfied: Flask in e:\\archives\\anaconda\\lib\\site-packages (from mlflow) (1.1.2)\n",
      "Collecting querystring-parser\n",
      "  Downloading querystring_parser-1.2.4-py2.py3-none-any.whl (7.9 kB)\n",
      "Requirement already satisfied: numpy in e:\\archives\\anaconda\\lib\\site-packages (from mlflow) (1.20.1)\n",
      "Requirement already satisfied: tabulate>=0.7.7 in e:\\archives\\anaconda\\lib\\site-packages (from databricks-cli>=0.8.7->mlflow) (0.8.9)\n",
      "Requirement already satisfied: six>=1.10.0 in e:\\archives\\anaconda\\lib\\site-packages (from databricks-cli>=0.8.7->mlflow) (1.15.0)\n",
      "Collecting websocket-client>=0.32.0\n",
      "  Downloading websocket_client-1.3.1-py3-none-any.whl (54 kB)\n",
      "Requirement already satisfied: pywin32==227 in e:\\archives\\anaconda\\lib\\site-packages (from docker>=4.0.0->mlflow) (227)\n",
      "Collecting gitdb<5,>=4.0.1\n",
      "  Downloading gitdb-4.0.9-py3-none-any.whl (63 kB)\n",
      "Collecting smmap<6,>=3.0.1\n",
      "  Downloading smmap-5.0.0-py3-none-any.whl (24 kB)\n",
      "Requirement already satisfied: zipp>=0.5 in e:\\archives\\anaconda\\lib\\site-packages (from importlib-metadata!=4.7.0,>=3.7.0->mlflow) (3.4.1)\n",
      "Requirement already satisfied: certifi>=2017.4.17 in e:\\archives\\anaconda\\lib\\site-packages (from requests>=2.17.3->mlflow) (2020.12.5)\n",
      "Requirement already satisfied: idna<3,>=2.5 in e:\\archives\\anaconda\\lib\\site-packages (from requests>=2.17.3->mlflow) (2.10)\n",
      "Requirement already satisfied: urllib3<1.27,>=1.21.1 in e:\\archives\\anaconda\\lib\\site-packages (from requests>=2.17.3->mlflow) (1.26.4)\n",
      "Requirement already satisfied: chardet<5,>=3.0.2 in e:\\archives\\anaconda\\lib\\site-packages (from requests>=2.17.3->mlflow) (4.0.0)\n",
      "Requirement already satisfied: importlib-resources in e:\\archives\\anaconda\\lib\\site-packages (from alembic->mlflow) (5.4.0)\n",
      "Requirement already satisfied: Mako in e:\\archives\\anaconda\\lib\\site-packages (from alembic->mlflow) (1.1.6)\n",
      "Requirement already satisfied: greenlet!=0.4.17 in e:\\archives\\anaconda\\lib\\site-packages (from sqlalchemy->mlflow) (1.0.0)\n",
      "Requirement already satisfied: Werkzeug>=0.15 in e:\\archives\\anaconda\\lib\\site-packages (from Flask->mlflow) (1.0.1)\n",
      "Requirement already satisfied: itsdangerous>=0.24 in e:\\archives\\anaconda\\lib\\site-packages (from Flask->mlflow) (1.1.0)\n",
      "Requirement already satisfied: Jinja2>=2.10.1 in e:\\archives\\anaconda\\lib\\site-packages (from Flask->mlflow) (2.11.3)\n",
      "Requirement already satisfied: MarkupSafe>=0.23 in e:\\archives\\anaconda\\lib\\site-packages (from Jinja2>=2.10.1->Flask->mlflow) (1.1.1)\n",
      "Requirement already satisfied: pyparsing>=2.0.2 in e:\\archives\\anaconda\\lib\\site-packages (from packaging->mlflow) (2.4.7)\n",
      "Requirement already satisfied: python-dateutil>=2.7.3 in e:\\archives\\anaconda\\lib\\site-packages (from pandas->mlflow) (2.8.1)\n",
      "Requirement already satisfied: prometheus-client in e:\\archives\\anaconda\\lib\\site-packages (from prometheus-flask-exporter->mlflow) (0.10.1)\n",
      "Building wheels for collected packages: databricks-cli\n",
      "  Building wheel for databricks-cli (setup.py): started\n",
      "  Building wheel for databricks-cli (setup.py): finished with status 'done'\n",
      "  Created wheel for databricks-cli: filename=databricks_cli-0.16.4-py3-none-any.whl size=106877 sha256=f6c5234f954f216fcb4ee38a76bec79bb78ec12adfbde73e2d496ec691c3fec7\n",
      "  Stored in directory: c:\\users\\cust\\appdata\\local\\pip\\cache\\wheels\\d0\\a9\\13\\b6cc3a08af2b683fd98cafff02c0207cdebb512010ad964607\n",
      "Successfully built databricks-cli\n",
      "Installing collected packages: smmap, websocket-client, gitdb, waitress, sqlparse, querystring-parser, prometheus-flask-exporter, gitpython, docker, databricks-cli, mlflow\n",
      "Successfully installed databricks-cli-0.16.4 docker-5.0.3 gitdb-4.0.9 gitpython-3.1.27 mlflow-1.24.0 prometheus-flask-exporter-0.19.0 querystring-parser-1.2.4 smmap-5.0.0 sqlparse-0.4.2 waitress-2.1.1 websocket-client-1.3.1\n"
     ]
    }
   ],
   "source": [
    "pip install mlflow"
   ]
  },
  {
   "cell_type": "code",
   "execution_count": 6,
   "id": "a4202649",
   "metadata": {},
   "outputs": [],
   "source": [
    "import optuna\n",
    "from tensorflow.keras import regularizers\n",
    "from tensorflow.keras.optimizers import RMSprop\n",
    "import mlflow\n",
    "from mlflow.tracking import MlflowClient\n",
    "from mlflow.utils.mlflow_tags import MLFLOW_PARENT_RUN_ID"
   ]
  },
  {
   "cell_type": "code",
   "execution_count": 7,
   "id": "624e1e8d",
   "metadata": {},
   "outputs": [],
   "source": [
    "\n",
    "def objective(trial):\n",
    "\n",
    "  with mlflow.start_run()as run:\n",
    "    model=Sequential()\n",
    "\n",
    "  #CONVOLUTIONAL LAYER\n",
    "\n",
    "    model.add(Conv2D(32, (3, 3), activation='relu', kernel_initializer='he_uniform', input_shape=(28, 28, 1)))\n",
    "  \n",
    "  #MAX POOLING LAYER\n",
    "    model.add(MaxPooling2D((2, 2)))\n",
    "\n",
    "  #FLATTENING THE OUTPUT\n",
    "\n",
    "    model.add(Flatten())\n",
    "\n",
    "  # DEFINE A SEARCH SPACE FOR REGULARIZER\n",
    "\n",
    "    regularizer_type = trial.suggest_categorical('regularizer_type',['l1','l2','l1_l2'])\n",
    "\n",
    "    mlflow.log_param(\"regularizer_type\", regularizer_type)\n",
    "\n",
    "\n",
    "    if regularizer_type == 'l1':\n",
    "      regularizer = regularizers.l1(l1=trial.suggest_loguniform('weight',0.001,0.1))\n",
    "      \n",
    "\n",
    "    if regularizer_type =='l2':\n",
    "      regularizer = regularizers.l2(l2=trial.suggest_loguniform('weight',0.001,0.1))\n",
    "      \n",
    "\n",
    "    if regularizer_type =='l1_l2':\n",
    "      regularizer = regularizers.l1_l2(l1=trial.suggest_loguniform('weight1',0.001,0.1),l2=trial.suggest_loguniform('weight2',0.001,0.1))\n",
    "      \n",
    "    \n",
    " #DENSE LAYERS\n",
    "    model.add(Dense(188, activation='relu', kernel_initializer='he_uniform',kernel_regularizer=regularizer))\n",
    "    model.add(Dense(10, activation='softmax'))\n",
    "\n",
    "\n",
    "  #VARYING THE OPTIMIZER\n",
    "\n",
    "    optimizer_name = trial.suggest_categorical('optimizer_name',['Adam','RMSprop'])\n",
    "\n",
    "    mlflow.log_param(\"optimizer_name\", optimizer_name)\n",
    "\n",
    "\n",
    "    if optimizer_name == 'Adam':\n",
    "      optimizer = Adam(learning_rate = trial.suggest_float('learning_rate',0.00001,0.0001))\n",
    "\n",
    "    if optimizer_name == 'RMSprop':\n",
    "      optimizer = RMSprop(learning_rate= trial.suggest_float('learning_rate',0.00001,0.0001),momentum=trial.suggest_float('momentum',0.6,0.95))\n",
    "\n",
    "  #COMPILE THE MODEL\n",
    "    model.compile(optimizer=optimizer, loss='categorical_crossentropy', metrics=['accuracy'])\n",
    "\n",
    "    #VARY THE BATCH SIZE\n",
    "\n",
    "    batch_size = trial.suggest_categorical('batch_size',[32,64,128])\n",
    "    mlflow.log_param(\"batch_size\", batch_size)\n",
    "\n",
    "\n",
    "  #FIT THE MODEL\n",
    "\n",
    "    history= model.fit(\n",
    "        trainX,\n",
    "        trainY,\n",
    "        batch_size=batch_size,\n",
    "        epochs=5,\n",
    "        verbose=1,\n",
    "        validation_data=(testX, testY))\n",
    "    \n",
    "    \n",
    "  \n",
    "    accuracy = history.history['val_accuracy'][-1]\n",
    "\n",
    "    mlflow.log_metric(\"accuracy\",accuracy)\n",
    "  \n",
    "    print('accuracy is ', accuracy)\n",
    "  \n",
    "    global best_accuracy\n",
    "  \n",
    "    del model\n",
    "\n",
    "    \n",
    "\n",
    "    return accuracy"
   ]
  },
  {
   "cell_type": "code",
   "execution_count": null,
   "id": "f168b88f",
   "metadata": {},
   "outputs": [
    {
     "name": "stderr",
     "output_type": "stream",
     "text": [
      "<ipython-input-9-db36eaa41467>:6: ExperimentalWarning: MLflowCallback is experimental (supported from v1.4.0). The interface can change in the future.\n",
      "  mlflc = MLflowCallback(tracking_uri='ml_exp1',metric_name='accuracy')\n",
      "\u001b[32m[I 2022-03-22 23:27:48,213]\u001b[0m A new study created in memory with name: cnn_study\u001b[0m\n",
      "2022/03/22 23:27:48 WARNING mlflow.tracking.context.git_context: Failed to import Git (the Git executable is probably not on your PATH), so Git SHA is not available. Error: Failed to initialize: Bad git executable.\n",
      "The git executable must be specified in one of the following ways:\n",
      "    - be included in your $PATH\n",
      "    - be set via $GIT_PYTHON_GIT_EXECUTABLE\n",
      "    - explicitly set via git.refresh()\n",
      "\n",
      "All git commands will error until this is rectified.\n",
      "\n",
      "This initial warning can be silenced or aggravated in the future by setting the\n",
      "$GIT_PYTHON_REFRESH environment variable. Use one of the following values:\n",
      "    - quiet|q|silence|s|none|n|0: for no warning or exception\n",
      "    - warn|w|warning|1: for a printed warning\n",
      "    - error|e|raise|r|2: for a raised exception\n",
      "\n",
      "Example:\n",
      "    export GIT_PYTHON_REFRESH=quiet\n",
      "\n"
     ]
    },
    {
     "name": "stdout",
     "output_type": "stream",
     "text": [
      "Epoch 1/5\n",
      "1875/1875 [==============================] - 50s 25ms/step - loss: 9.5254 - accuracy: 0.7947 - val_loss: 4.1626 - val_accuracy: 0.8265\n",
      "Epoch 2/5\n",
      "1875/1875 [==============================] - 50s 26ms/step - loss: 2.9266 - accuracy: 0.8324 - val_loss: 2.1394 - val_accuracy: 0.8219\n",
      "Epoch 3/5\n",
      "1875/1875 [==============================] - 52s 28ms/step - loss: 1.7313 - accuracy: 0.8301 - val_loss: 1.4555 - val_accuracy: 0.8220\n",
      "Epoch 4/5\n",
      "1875/1875 [==============================] - 54s 29ms/step - loss: 1.2784 - accuracy: 0.8278 - val_loss: 1.1700 - val_accuracy: 0.8205\n",
      "Epoch 5/5\n",
      "1875/1875 [==============================] - 60s 32ms/step - loss: 1.0649 - accuracy: 0.8288 - val_loss: 1.0315 - val_accuracy: 0.8047\n"
     ]
    },
    {
     "name": "stderr",
     "output_type": "stream",
     "text": [
      "\u001b[32m[I 2022-03-22 23:32:18,335]\u001b[0m Trial 0 finished with value: 0.8047000169754028 and parameters: {'regularizer_type': 'l1', 'weight': 0.0011301156984240145, 'optimizer_name': 'Adam', 'learning_rate': 2.639184046128422e-05, 'batch_size': 32}. Best is trial 0 with value: 0.8047000169754028.\u001b[0m\n",
      "2022/03/22 23:32:18 INFO mlflow.tracking.fluent: Experiment with name 'cnn_study' does not exist. Creating a new experiment.\n"
     ]
    },
    {
     "name": "stdout",
     "output_type": "stream",
     "text": [
      "accuracy is  0.8047000169754028\n",
      "Epoch 1/5\n",
      "938/938 [==============================] - 45s 47ms/step - loss: 9.3714 - accuracy: 0.6810 - val_loss: 1.9546 - val_accuracy: 0.7216\n",
      "Epoch 2/5\n",
      "938/938 [==============================] - 45s 48ms/step - loss: 1.8635 - accuracy: 0.7336 - val_loss: 1.8156 - val_accuracy: 0.7373\n",
      "Epoch 3/5\n",
      "938/938 [==============================] - 53s 56ms/step - loss: 1.7313 - accuracy: 0.7469 - val_loss: 1.7125 - val_accuracy: 0.7424\n",
      "Epoch 4/5\n",
      "938/938 [==============================] - 43s 45ms/step - loss: 1.6576 - accuracy: 0.7554 - val_loss: 1.6329 - val_accuracy: 0.7562\n",
      "Epoch 5/5\n",
      "938/938 [==============================] - 37s 39ms/step - loss: 1.6157 - accuracy: 0.7607 - val_loss: 1.5986 - val_accuracy: 0.7615\n"
     ]
    },
    {
     "name": "stderr",
     "output_type": "stream",
     "text": [
      "\u001b[32m[I 2022-03-22 23:36:01,559]\u001b[0m Trial 1 finished with value: 0.7615000009536743 and parameters: {'regularizer_type': 'l1', 'weight': 0.012893358719873663, 'optimizer_name': 'RMSprop', 'learning_rate': 6.123906213143902e-05, 'momentum': 0.8371379734070274, 'batch_size': 64}. Best is trial 0 with value: 0.8047000169754028.\u001b[0m\n"
     ]
    },
    {
     "name": "stdout",
     "output_type": "stream",
     "text": [
      "accuracy is  0.7615000009536743\n",
      "Epoch 1/5\n",
      "1875/1875 [==============================] - 64s 34ms/step - loss: 1.0087 - accuracy: 0.8285 - val_loss: 0.6419 - val_accuracy: 0.8370\n",
      "Epoch 2/5\n",
      "1875/1875 [==============================] - 59s 32ms/step - loss: 0.5237 - accuracy: 0.8586 - val_loss: 0.5077 - val_accuracy: 0.8565\n",
      "Epoch 3/5\n",
      "1875/1875 [==============================] - 62s 33ms/step - loss: 0.4744 - accuracy: 0.8684 - val_loss: 0.4997 - val_accuracy: 0.8583\n",
      "Epoch 4/5\n",
      "1875/1875 [==============================] - 51s 27ms/step - loss: 0.4546 - accuracy: 0.8719 - val_loss: 0.4483 - val_accuracy: 0.8719\n",
      "Epoch 5/5\n",
      "1875/1875 [==============================] - 42s 22ms/step - loss: 0.4399 - accuracy: 0.8756 - val_loss: 0.4495 - val_accuracy: 0.8689\n"
     ]
    },
    {
     "name": "stderr",
     "output_type": "stream",
     "text": [
      "\u001b[32m[I 2022-03-22 23:40:40,451]\u001b[0m Trial 2 finished with value: 0.8689000010490417 and parameters: {'regularizer_type': 'l2', 'weight': 0.00837534470427676, 'optimizer_name': 'RMSprop', 'learning_rate': 5.401834617262302e-05, 'momentum': 0.7886624671275719, 'batch_size': 32}. Best is trial 2 with value: 0.8689000010490417.\u001b[0m\n"
     ]
    },
    {
     "name": "stdout",
     "output_type": "stream",
     "text": [
      "accuracy is  0.8689000010490417\n",
      "Epoch 1/5\n",
      "1875/1875 [==============================] - 51s 27ms/step - loss: 11.3881 - accuracy: 0.7051 - val_loss: 1.4603 - val_accuracy: 0.6747\n",
      "Epoch 2/5\n",
      "1875/1875 [==============================] - 51s 27ms/step - loss: 1.2884 - accuracy: 0.7379 - val_loss: 1.1973 - val_accuracy: 0.7426\n",
      "Epoch 3/5\n",
      "1875/1875 [==============================] - 42s 22ms/step - loss: 1.1337 - accuracy: 0.7566 - val_loss: 1.1217 - val_accuracy: 0.7592\n",
      "Epoch 4/5\n",
      "1875/1875 [==============================] - 51s 27ms/step - loss: 1.0426 - accuracy: 0.7665 - val_loss: 1.0076 - val_accuracy: 0.7653\n",
      "Epoch 5/5\n",
      "1875/1875 [==============================] - 49s 26ms/step - loss: 0.9847 - accuracy: 0.7736 - val_loss: 0.9705 - val_accuracy: 0.7619\n"
     ]
    },
    {
     "name": "stderr",
     "output_type": "stream",
     "text": [
      "\u001b[32m[I 2022-03-22 23:44:44,893]\u001b[0m Trial 3 finished with value: 0.761900007724762 and parameters: {'regularizer_type': 'l1', 'weight': 0.007470898138984721, 'optimizer_name': 'Adam', 'learning_rate': 9.523066251816328e-05, 'batch_size': 32}. Best is trial 2 with value: 0.8689000010490417.\u001b[0m\n"
     ]
    },
    {
     "name": "stdout",
     "output_type": "stream",
     "text": [
      "accuracy is  0.761900007724762\n",
      "Epoch 1/5\n",
      "1875/1875 [==============================] - 54s 28ms/step - loss: 7.0302 - accuracy: 0.6797 - val_loss: 3.0103 - val_accuracy: 0.7516\n",
      "Epoch 2/5\n",
      "1875/1875 [==============================] - 76s 40ms/step - loss: 3.0461 - accuracy: 0.7291 - val_loss: 2.9426 - val_accuracy: 0.7428\n",
      "Epoch 3/5\n",
      "1875/1875 [==============================] - 68s 36ms/step - loss: 2.8401 - accuracy: 0.7476 - val_loss: 2.7978 - val_accuracy: 0.7337\n",
      "Epoch 4/5\n",
      "1875/1875 [==============================] - 70s 37ms/step - loss: 2.7449 - accuracy: 0.7590 - val_loss: 2.6375 - val_accuracy: 0.7768\n",
      "Epoch 5/5\n",
      "1875/1875 [==============================] - 69s 37ms/step - loss: 2.6782 - accuracy: 0.7622 - val_loss: 2.6468 - val_accuracy: 0.7658\n"
     ]
    },
    {
     "name": "stderr",
     "output_type": "stream",
     "text": [
      "\u001b[32m[I 2022-03-22 23:50:21,722]\u001b[0m Trial 4 finished with value: 0.7657999992370605 and parameters: {'regularizer_type': 'l1_l2', 'weight1': 0.017215444150637284, 'weight2': 0.08689870620378358, 'optimizer_name': 'RMSprop', 'learning_rate': 7.410919663696737e-05, 'momentum': 0.9422595625850847, 'batch_size': 32}. Best is trial 2 with value: 0.8689000010490417.\u001b[0m\n"
     ]
    },
    {
     "name": "stdout",
     "output_type": "stream",
     "text": [
      "accuracy is  0.7657999992370605\n",
      "Epoch 1/5\n",
      "1875/1875 [==============================] - 90s 48ms/step - loss: 96.3617 - accuracy: 0.6636 - val_loss: 2.8328 - val_accuracy: 0.6509\n",
      "Epoch 2/5\n",
      "1875/1875 [==============================] - 68s 36ms/step - loss: 2.0328 - accuracy: 0.6617 - val_loss: 1.7924 - val_accuracy: 0.6334\n",
      "Epoch 3/5\n",
      "1875/1875 [==============================] - 77s 41ms/step - loss: 1.6912 - accuracy: 0.6712 - val_loss: 1.6211 - val_accuracy: 0.6641\n",
      "Epoch 4/5\n",
      "1875/1875 [==============================] - 65s 35ms/step - loss: 1.5603 - accuracy: 0.6880 - val_loss: 1.5258 - val_accuracy: 0.6874\n",
      "Epoch 5/5\n",
      "1875/1875 [==============================] - 71s 38ms/step - loss: 1.4682 - accuracy: 0.7033 - val_loss: 1.4380 - val_accuracy: 0.6982\n"
     ]
    },
    {
     "name": "stderr",
     "output_type": "stream",
     "text": [
      "\u001b[32m[I 2022-03-22 23:56:33,146]\u001b[0m Trial 5 finished with value: 0.698199987411499 and parameters: {'regularizer_type': 'l1_l2', 'weight1': 0.018362265940928695, 'weight2': 0.013778498224789245, 'optimizer_name': 'Adam', 'learning_rate': 2.073227261691051e-05, 'batch_size': 32}. Best is trial 2 with value: 0.8689000010490417.\u001b[0m\n"
     ]
    },
    {
     "name": "stdout",
     "output_type": "stream",
     "text": [
      "accuracy is  0.698199987411499\n",
      "Epoch 1/5\n",
      "469/469 [==============================] - 31s 64ms/step - loss: 462.4487 - accuracy: 0.3608 - val_loss: 209.8081 - val_accuracy: 0.5128\n",
      "Epoch 2/5\n",
      "469/469 [==============================] - 37s 80ms/step - loss: 77.2787 - accuracy: 0.5931 - val_loss: 3.8446 - val_accuracy: 0.6172\n",
      "Epoch 3/5\n",
      "469/469 [==============================] - 38s 80ms/step - loss: 2.4488 - accuracy: 0.4878 - val_loss: 2.3172 - val_accuracy: 0.5014\n",
      "Epoch 4/5\n",
      "469/469 [==============================] - 33s 71ms/step - loss: 2.2670 - accuracy: 0.5258 - val_loss: 2.2225 - val_accuracy: 0.5337\n",
      "Epoch 5/5\n",
      "469/469 [==============================] - 34s 73ms/step - loss: 2.1782 - accuracy: 0.5375 - val_loss: 2.1400 - val_accuracy: 0.5398\n"
     ]
    },
    {
     "name": "stderr",
     "output_type": "stream",
     "text": [
      "\u001b[32m[I 2022-03-22 23:59:27,142]\u001b[0m Trial 6 finished with value: 0.5397999882698059 and parameters: {'regularizer_type': 'l1_l2', 'weight1': 0.04548510393355477, 'weight2': 0.001959260541771335, 'optimizer_name': 'Adam', 'learning_rate': 3.4289295336526485e-05, 'batch_size': 128}. Best is trial 2 with value: 0.8689000010490417.\u001b[0m\n"
     ]
    },
    {
     "name": "stdout",
     "output_type": "stream",
     "text": [
      "accuracy is  0.5397999882698059\n",
      "Epoch 1/5\n",
      "469/469 [==============================] - 42s 88ms/step - loss: 232.3201 - accuracy: 0.4745 - val_loss: 38.9604 - val_accuracy: 0.6141\n",
      "Epoch 2/5\n",
      "469/469 [==============================] - 30s 63ms/step - loss: 6.9526 - accuracy: 0.5982 - val_loss: 2.2717 - val_accuracy: 0.5578\n",
      "Epoch 3/5\n",
      "469/469 [==============================] - 32s 69ms/step - loss: 2.1922 - accuracy: 0.5716 - val_loss: 2.1271 - val_accuracy: 0.5577\n",
      "Epoch 4/5\n",
      "469/469 [==============================] - 40s 84ms/step - loss: 2.0540 - accuracy: 0.5785 - val_loss: 1.9987 - val_accuracy: 0.5896\n",
      "Epoch 5/5\n",
      "469/469 [==============================] - 33s 71ms/step - loss: 1.9384 - accuracy: 0.5924 - val_loss: 1.8919 - val_accuracy: 0.5863\n"
     ]
    },
    {
     "name": "stderr",
     "output_type": "stream",
     "text": [
      "\u001b[32m[I 2022-03-23 00:02:24,192]\u001b[0m Trial 7 finished with value: 0.5863000154495239 and parameters: {'regularizer_type': 'l1_l2', 'weight1': 0.03013434469951901, 'weight2': 0.01784410043608344, 'optimizer_name': 'Adam', 'learning_rate': 5.254992588557392e-05, 'batch_size': 128}. Best is trial 2 with value: 0.8689000010490417.\u001b[0m\n"
     ]
    },
    {
     "name": "stdout",
     "output_type": "stream",
     "text": [
      "accuracy is  0.5863000154495239\n",
      "Epoch 1/5\n",
      "938/938 [==============================] - 38s 40ms/step - loss: 36.6297 - accuracy: 0.6536 - val_loss: 1.8217 - val_accuracy: 0.6523\n",
      "Epoch 2/5\n",
      "938/938 [==============================] - 51s 55ms/step - loss: 1.6539 - accuracy: 0.6912 - val_loss: 1.5596 - val_accuracy: 0.6845\n",
      "Epoch 3/5\n",
      "938/938 [==============================] - 41s 43ms/step - loss: 1.4674 - accuracy: 0.7203 - val_loss: 1.4567 - val_accuracy: 0.7041\n",
      "Epoch 4/5\n",
      "938/938 [==============================] - 50s 54ms/step - loss: 1.3544 - accuracy: 0.7357 - val_loss: 1.3103 - val_accuracy: 0.7322\n",
      "Epoch 5/5\n",
      "938/938 [==============================] - 43s 46ms/step - loss: 1.2779 - accuracy: 0.7435 - val_loss: 1.2703 - val_accuracy: 0.7340\n"
     ]
    },
    {
     "name": "stderr",
     "output_type": "stream",
     "text": [
      "\u001b[32m[I 2022-03-23 00:06:07,797]\u001b[0m Trial 8 finished with value: 0.734000027179718 and parameters: {'regularizer_type': 'l1', 'weight': 0.015118878129860746, 'optimizer_name': 'Adam', 'learning_rate': 9.174521715770914e-05, 'batch_size': 64}. Best is trial 2 with value: 0.8689000010490417.\u001b[0m\n"
     ]
    },
    {
     "name": "stdout",
     "output_type": "stream",
     "text": [
      "accuracy is  0.734000027179718\n",
      "Epoch 1/5\n",
      "938/938 [==============================] - 44s 45ms/step - loss: 15.1185 - accuracy: 0.6342 - val_loss: 3.5695 - val_accuracy: 0.7146\n",
      "Epoch 2/5\n",
      "329/938 [=========>....................] - ETA: 31s - loss: 3.4765 - accuracy: 0.7140"
     ]
    }
   ],
   "source": [
    "from optuna.integration.mlflow import MLflowCallback\n",
    "\n",
    "mlflow.set_experiment('my_experiment')\n",
    "\n",
    "if __name__ == \"__main__\":\n",
    "  mlflc = MLflowCallback(tracking_uri='ml_exp1',metric_name='accuracy')\n",
    "  study= optuna.create_study(\n",
    "    direction='maximize',\n",
    "    study_name='cnn_study',\n",
    "    load_if_exists=True)\n",
    "  study.optimize(objective, n_trials=30, callbacks=[mlflc])"
   ]
  },
  {
   "cell_type": "code",
   "execution_count": null,
   "id": "7fbca6f3",
   "metadata": {},
   "outputs": [],
   "source": []
  }
 ],
 "metadata": {
  "kernelspec": {
   "display_name": "Python 3",
   "language": "python",
   "name": "python3"
  },
  "language_info": {
   "codemirror_mode": {
    "name": "ipython",
    "version": 3
   },
   "file_extension": ".py",
   "mimetype": "text/x-python",
   "name": "python",
   "nbconvert_exporter": "python",
   "pygments_lexer": "ipython3",
   "version": "3.8.8"
  }
 },
 "nbformat": 4,
 "nbformat_minor": 5
}
